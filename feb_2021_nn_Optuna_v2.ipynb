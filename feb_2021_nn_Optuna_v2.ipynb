{
  "metadata": {
    "kernelspec": {
      "language": "python",
      "display_name": "Python 3",
      "name": "python3"
    },
    "language_info": {
      "name": "python",
      "version": "3.7.12",
      "mimetype": "text/x-python",
      "codemirror_mode": {
        "name": "ipython",
        "version": 3
      },
      "pygments_lexer": "ipython3",
      "nbconvert_exporter": "python",
      "file_extension": ".py"
    },
    "colab": {
      "provenance": [],
      "private_outputs": true,
      "include_colab_link": true
    },
    "accelerator": "GPU",
    "gpuClass": "standard"
  },
  "nbformat_minor": 0,
  "nbformat": 4,
  "cells": [
    {
      "cell_type": "markdown",
      "metadata": {
        "id": "view-in-github",
        "colab_type": "text"
      },
      "source": [
        "<a href=\"https://colab.research.google.com/github/SilverSurferClash/Regression_templates/blob/main/feb_2021_nn_Optuna_v2.ipynb\" target=\"_parent\"><img src=\"https://colab.research.google.com/assets/colab-badge.svg\" alt=\"Open In Colab\"/></a>"
      ]
    },
    {
      "cell_type": "code",
      "source": [
        "from google.colab import drive\n",
        "drive.mount('/content/drive')\n",
        "from google.colab import files"
      ],
      "metadata": {
        "id": "x3RADG32dJeK"
      },
      "execution_count": null,
      "outputs": []
    },
    {
      "cell_type": "code",
      "source": [
        "!pip install category_encoders"
      ],
      "metadata": {
        "id": "-nEFxRKwyrrV"
      },
      "execution_count": null,
      "outputs": []
    },
    {
      "cell_type": "code",
      "source": [
        "!pip install optuna"
      ],
      "metadata": {
        "id": "vVA5qfVU-cdm"
      },
      "execution_count": null,
      "outputs": []
    },
    {
      "cell_type": "code",
      "source": [
        "# This Python 3 environment comes with many helpful analytics libraries installed\n",
        "# It is defined by the kaggle/python Docker image: https://github.com/kaggle/docker-python\n",
        "# For example, here's several helpful packages to load\n",
        "#Import os libaries\n",
        "import os\n",
        "import time\n",
        "from pathlib import Path\n",
        "import sys\n",
        "import pickle\n",
        "import joblib\n",
        "\n",
        "#Import data manipulation libaries\n",
        "import numpy as np # linear algebra\n",
        "import pandas as pd # data processing, CSV file I/O (e.g. pd.read_csv)\n",
        "\n",
        "#import ploting libraries\n",
        "import matplotlib.pyplot as plt\n",
        "import seaborn as sns\n",
        "\n",
        "#Splitting the data and cross-validation\n",
        "from sklearn.model_selection import train_test_split, GridSearchCV, cross_validate, cross_val_score,KFold, GroupKFold, StratifiedKFold\n",
        "\n",
        "#Metrics\n",
        "#from sklearn.metrics import classification_report,accuracy_score , roc_auc_score\n",
        "from sklearn.metrics import mean_squared_error\n",
        "#Classifiers\n",
        "import xgboost as xgb\n",
        "from lightgbm import LGBMClassifier\n",
        "#from catboost import CatBoostClassifier\n",
        "from sklearn.linear_model import LogisticRegression, LinearRegression\n",
        "from sklearn.ensemble import RandomForestClassifier, ExtraTreesClassifier\n",
        "\n",
        "#Feature engineerring\n",
        "from sklearn.preprocessing import FunctionTransformer, StandardScaler, OneHotEncoder\n",
        "from sklearn.pipeline import Pipeline, FeatureUnion\n",
        "from sklearn.compose import ColumnTransformer, make_column_transformer\n",
        "\n",
        "#Encoding\n",
        "\n",
        "import category_encoders as ce\n",
        "\n",
        "#Helper modules\n",
        "from tqdm import tqdm"
      ],
      "metadata": {
        "_uuid": "8f2839f25d086af736a60e9eeb907d3b93b6e0e5",
        "_cell_guid": "b1076dfc-b9ad-4769-8c92-a6c4dae69d19",
        "execution": {
          "iopub.status.busy": "2022-12-15T08:27:14.897202Z",
          "iopub.execute_input": "2022-12-15T08:27:14.897563Z",
          "iopub.status.idle": "2022-12-15T08:27:14.906688Z",
          "shell.execute_reply.started": "2022-12-15T08:27:14.897533Z",
          "shell.execute_reply": "2022-12-15T08:27:14.905293Z"
        },
        "trusted": true,
        "id": "16ZkVC_FdGpT"
      },
      "execution_count": null,
      "outputs": []
    },
    {
      "cell_type": "code",
      "source": [
        "#Notebook settings\n",
        "# To define maximum number of columns to be displayed in a dataframe\n",
        "pd.set_option('display.max_columns', None)\n",
        "\n",
        "# To supress warnings\n",
        "import warnings\n",
        "warnings.filterwarnings('ignore')\n",
        "\n",
        "#Set the theme for seaborn\n",
        "#sns.set_theme(style=\"darkgrid\")\n",
        "pd.set_option('display.precision', 2)\n",
        "\n",
        "#Set dark theme\n",
        "plt.style.use('dark_background')"
      ],
      "metadata": {
        "execution": {
          "iopub.status.busy": "2022-12-15T08:27:14.909032Z",
          "iopub.execute_input": "2022-12-15T08:27:14.909810Z",
          "iopub.status.idle": "2022-12-15T08:27:14.924082Z",
          "shell.execute_reply.started": "2022-12-15T08:27:14.909735Z",
          "shell.execute_reply": "2022-12-15T08:27:14.922905Z"
        },
        "trusted": true,
        "id": "pT5-qiUOdGpV"
      },
      "execution_count": null,
      "outputs": []
    },
    {
      "cell_type": "code",
      "source": [
        "os.getcwd()"
      ],
      "metadata": {
        "id": "jA4QoWY2do4m"
      },
      "execution_count": null,
      "outputs": []
    },
    {
      "cell_type": "code",
      "source": [
        "os.chdir(\"/content/drive/MyDrive/Colab_Notebooks/deep_learning\")"
      ],
      "metadata": {
        "id": "wZpE-ihje7Au"
      },
      "execution_count": null,
      "outputs": []
    },
    {
      "cell_type": "code",
      "source": [
        "train_import = pd.read_csv(\"train.csv\")\n",
        "test = pd.read_csv(\"test.csv\")"
      ],
      "metadata": {
        "id": "WHBFhcq3gUVC"
      },
      "execution_count": null,
      "outputs": []
    },
    {
      "cell_type": "markdown",
      "source": [
        "#### List of different feature sets"
      ],
      "metadata": {
        "id": "4m_-tvq5dGpW"
      }
    },
    {
      "cell_type": "code",
      "source": [
        "# List of colums based on their function\n",
        "# Target\n",
        "target_label  = \"target\"\n",
        "# List of all features\n",
        "all_feature = [col for col in train_import.columns if col != \"target\"]\n",
        "# List of numeric features\n",
        "all_numeric = [col for col in all_feature if train_import[col].dtype == \"float64\"]\n",
        "# List of all categorical features\n",
        "all_categorical = [col for col in all_feature if train_import[col].dtype == \"object\"]"
      ],
      "metadata": {
        "execution": {
          "iopub.status.busy": "2022-12-15T08:27:16.427630Z",
          "iopub.execute_input": "2022-12-15T08:27:16.428099Z",
          "iopub.status.idle": "2022-12-15T08:27:16.436192Z",
          "shell.execute_reply.started": "2022-12-15T08:27:16.428063Z",
          "shell.execute_reply": "2022-12-15T08:27:16.435205Z"
        },
        "trusted": true,
        "id": "JWYDBhsNdGpX"
      },
      "execution_count": null,
      "outputs": []
    },
    {
      "cell_type": "code",
      "source": [
        "#Step 0: Drop non-essential columns\n",
        "#Step 1: Perform imputation or encoding of missing data\n",
        "#Step 2: Perform encoding for the different categorical columns\n",
        "#Step 3: feature transformation of numeric features\n",
        "#Step 4: feature generation by aggregation/groupby function\n",
        "#Step 5: "
      ],
      "metadata": {
        "execution": {
          "iopub.status.busy": "2022-12-15T08:27:16.437750Z",
          "iopub.execute_input": "2022-12-15T08:27:16.438509Z",
          "iopub.status.idle": "2022-12-15T08:27:16.449254Z",
          "shell.execute_reply.started": "2022-12-15T08:27:16.438475Z",
          "shell.execute_reply": "2022-12-15T08:27:16.448302Z"
        },
        "trusted": true,
        "id": "TTTen8HHdGpX"
      },
      "execution_count": null,
      "outputs": []
    },
    {
      "cell_type": "markdown",
      "source": [
        "### Create the feature matrix and target values"
      ],
      "metadata": {
        "id": "Tk18DlFrdGpX"
      }
    },
    {
      "cell_type": "code",
      "source": [
        "#Create the training feature matrix, the training feature labels and the same for the\n",
        "#validation set\n",
        "\n",
        "train = train_import.sample(frac = 1).copy()\n",
        "train_X = train.loc[:, all_feature]\n",
        "train_y = train.loc[:, [target_label]].values\n",
        "train_X.shape, train_y.shape"
      ],
      "metadata": {
        "execution": {
          "iopub.status.busy": "2022-12-15T08:27:16.451725Z",
          "iopub.execute_input": "2022-12-15T08:27:16.452835Z",
          "iopub.status.idle": "2022-12-15T08:27:16.492085Z",
          "shell.execute_reply.started": "2022-12-15T08:27:16.452807Z",
          "shell.execute_reply": "2022-12-15T08:27:16.491199Z"
        },
        "trusted": true,
        "id": "n2IFz8KfdGpY"
      },
      "execution_count": null,
      "outputs": []
    },
    {
      "cell_type": "markdown",
      "source": [
        "### Feature Engineering - Encoding and Scaling"
      ],
      "metadata": {
        "id": "sS_iyO8DdGpY"
      }
    },
    {
      "cell_type": "code",
      "source": [
        "preprocess_continuous = Pipeline(steps=[('scaler', StandardScaler())])\n",
        "preprocess_categorical = Pipeline(steps=[('encoder',\n",
        "ce.OneHotEncoder(cols=all_categorical))])"
      ],
      "metadata": {
        "execution": {
          "iopub.status.busy": "2022-12-15T08:27:16.493836Z",
          "iopub.execute_input": "2022-12-15T08:27:16.494386Z",
          "iopub.status.idle": "2022-12-15T08:27:16.499460Z",
          "shell.execute_reply.started": "2022-12-15T08:27:16.494352Z",
          "shell.execute_reply": "2022-12-15T08:27:16.498461Z"
        },
        "trusted": true,
        "id": "mzptqdScdGpY"
      },
      "execution_count": null,
      "outputs": []
    },
    {
      "cell_type": "code",
      "source": [
        "ct = ColumnTransformer(\n",
        "transformers=[('continuous', #A\n",
        "preprocess_continuous, all_numeric),\n",
        "('categorical', #B\n",
        "preprocess_categorical, all_categorical)],\n",
        "remainder='passthrough')"
      ],
      "metadata": {
        "execution": {
          "iopub.status.busy": "2022-12-15T08:27:16.500946Z",
          "iopub.execute_input": "2022-12-15T08:27:16.501383Z",
          "iopub.status.idle": "2022-12-15T08:27:16.508904Z",
          "shell.execute_reply.started": "2022-12-15T08:27:16.501347Z",
          "shell.execute_reply": "2022-12-15T08:27:16.508023Z"
        },
        "trusted": true,
        "id": "0zV6761OdGpZ"
      },
      "execution_count": null,
      "outputs": []
    },
    {
      "cell_type": "code",
      "source": [
        "train_X_trans = ct.fit_transform(train_X, train_y)\n",
        "test_trans = ct.transform(test)"
      ],
      "metadata": {
        "execution": {
          "iopub.status.busy": "2022-12-15T08:27:16.512144Z",
          "iopub.execute_input": "2022-12-15T08:27:16.512499Z",
          "iopub.status.idle": "2022-12-15T08:27:17.655951Z",
          "shell.execute_reply.started": "2022-12-15T08:27:16.512469Z",
          "shell.execute_reply": "2022-12-15T08:27:17.654857Z"
        },
        "trusted": true,
        "id": "fr_m7aEwdGpZ"
      },
      "execution_count": null,
      "outputs": []
    },
    {
      "cell_type": "code",
      "source": [
        "train_data = train_X_trans.copy()\n",
        "train_targets = train_y.copy()\n"
      ],
      "metadata": {
        "execution": {
          "iopub.status.busy": "2022-12-15T08:27:17.658902Z",
          "iopub.execute_input": "2022-12-15T08:27:17.659210Z",
          "iopub.status.idle": "2022-12-15T08:27:17.666082Z",
          "shell.execute_reply.started": "2022-12-15T08:27:17.659183Z",
          "shell.execute_reply": "2022-12-15T08:27:17.665043Z"
        },
        "trusted": true,
        "id": "Uq6EFY6fdGpZ"
      },
      "execution_count": null,
      "outputs": []
    },
    {
      "cell_type": "code",
      "source": [
        "type(train_data), type(train_targets), train_targets.shape, train_data.shape"
      ],
      "metadata": {
        "id": "NJycighgTPAa"
      },
      "execution_count": null,
      "outputs": []
    },
    {
      "cell_type": "markdown",
      "source": [
        "Create Neural network"
      ],
      "metadata": {
        "id": "OI5aUe9zdGpZ"
      }
    },
    {
      "cell_type": "code",
      "source": [
        "from tensorflow import keras\n",
        "from tensorflow.keras import layers"
      ],
      "metadata": {
        "id": "aVrT3uOwV-pa"
      },
      "execution_count": null,
      "outputs": []
    },
    {
      "cell_type": "code",
      "source": [],
      "metadata": {
        "id": "AAWCN41J-CvT"
      },
      "execution_count": null,
      "outputs": []
    },
    {
      "cell_type": "code",
      "source": [
        "import urllib\n",
        "import warnings\n",
        "\n",
        "import optuna\n",
        "\n",
        "from keras.backend import clear_session\n",
        "from keras.datasets import mnist\n",
        "from keras.layers import Conv2D\n",
        "from keras.layers import Dense\n",
        "from keras.layers import Flatten\n",
        "from keras.layers import Dropout\n",
        "from keras.models import Sequential\n",
        "from tensorflow.keras.optimizers import RMSprop\n",
        "\n",
        "\n"
      ],
      "metadata": {
        "id": "OhWECrcK8de1"
      },
      "execution_count": null,
      "outputs": []
    },
    {
      "cell_type": "code",
      "source": [
        "# TODO(crcrpar): Remove the below three lines once everything is ok.\n",
        "# Register a global custom opener to avoid HTTP Error 403: Forbidden when downloading MNIST.\n",
        "opener = urllib.request.build_opener()\n",
        "opener.addheaders = [(\"User-agent\", \"Mozilla/5.0\")]\n",
        "urllib.request.install_opener(opener)\n",
        "\n",
        "\n",
        "\n",
        "BATCHSIZE = 256\n",
        "EPOCHS = 10"
      ],
      "metadata": {
        "id": "YPJu3a0V-Dnk"
      },
      "execution_count": null,
      "outputs": []
    },
    {
      "cell_type": "code",
      "source": [
        "    # 1 Define the train_data, train_labels, val_data and val_labels\n",
        "x_train, x_valid, y_train, y_valid = train_test_split(train_data, train_targets, test_size=0.2, random_state=42)\n",
        "x_train.shape"
      ],
      "metadata": {
        "id": "F6MM1Ma-Q55g"
      },
      "execution_count": null,
      "outputs": []
    },
    {
      "cell_type": "code",
      "source": [
        "def objective(trial):\n",
        "    # Clear clutter from previous Keras session graphs.\n",
        "    clear_session()\n",
        "\n",
        " \n",
        "\n",
        "    # 1 Define the train_data, train_labels, val_data and val_labels\n",
        "    #See above\n",
        "\n",
        "    \n",
        "\n",
        "    #Initialise the model\n",
        "    model = Sequential()\n",
        "    \n",
        "    #Define the model structure\n",
        "    model.add(Dense(units = trial.suggest_int(\"n_estimators_1\", 16, 512),kernel_regularizer = trial.suggest_categorical(\"kernel_regularizer\", [\"l1\", \"l2\", \"l1_l2\"]), activation=\"relu\"))\n",
        "    model.add(Dropout(trial.suggest_uniform('dropout', 0.0, 0.5)))\n",
        "    model.add(Dense(units = trial.suggest_int(\"n_estimators_2\", 16, 512), activation=\"relu\"))\n",
        "    model.add(Dropout(trial.suggest_uniform('dropout', 0.0, 0.5)))\n",
        "    model.add(Dense(units = 1))\n",
        "\n",
        "    # We compile our model with a sampled learning rate.\n",
        "    learning_rate = trial.suggest_float(\"learning_rate\", 1e-3, 5e-1, log=True)\n",
        "    \n",
        "    model.compile(\n",
        "        loss=\"mse\",\n",
        "        optimizer=RMSprop(learning_rate=learning_rate),\n",
        "        metrics=[keras.metrics.RootMeanSquaredError()],\n",
        "    )\n",
        "\n",
        "    model.fit(\n",
        "        x_train,\n",
        "        y_train,\n",
        "        validation_data=(x_valid, y_valid),\n",
        "        shuffle=True,\n",
        "        batch_size=BATCHSIZE,\n",
        "        epochs=EPOCHS,\n",
        "        verbose=False,\n",
        "    )\n",
        "\n",
        "    # Evaluate the model accuracy on the validation set.\n",
        "    score = model.evaluate(x_valid, y_valid, verbose=0)\n",
        "    return score[1]"
      ],
      "metadata": {
        "id": "9iax8zeq-F4b"
      },
      "execution_count": null,
      "outputs": []
    },
    {
      "cell_type": "code",
      "source": [
        "study = optuna.create_study(direction=\"minimize\")\n",
        "study.optimize(objective, n_trials=50, timeout=600)\n",
        "\n",
        "print(\"Number of finished trials: {}\".format(len(study.trials)))\n",
        "\n",
        "print(\"Best trial:\")\n",
        "trial = study.best_trial\n",
        "\n",
        "print(\"  Value: {}\".format(trial.value))\n",
        "\n",
        "print(\"  Params: \")\n",
        "for key, value in trial.params.items():\n",
        "  print(\"    {}: {}\".format(key, value))"
      ],
      "metadata": {
        "id": "Yv7_EFGLRtjz"
      },
      "execution_count": null,
      "outputs": []
    },
    {
      "cell_type": "code",
      "source": [
        "from optuna.visualization import plot_optimization_history\n",
        "from optuna.visualization import plot_param_importances\n",
        "from optuna.visualization import plot_parallel_coordinate\n",
        "from optuna.visualization import plot_contour"
      ],
      "metadata": {
        "id": "bFeVTQlNnX_4"
      },
      "execution_count": null,
      "outputs": []
    },
    {
      "cell_type": "code",
      "source": [
        "plot_optimization_history(study)"
      ],
      "metadata": {
        "id": "CN9lvJ5RnOti"
      },
      "execution_count": null,
      "outputs": []
    },
    {
      "cell_type": "code",
      "source": [
        "plot_param_importances(study)"
      ],
      "metadata": {
        "id": "Jz4huio0nOSz"
      },
      "execution_count": null,
      "outputs": []
    },
    {
      "cell_type": "code",
      "source": [
        "plot_contour(study)"
      ],
      "metadata": {
        "id": "qyrA0BjVnM5r"
      },
      "execution_count": null,
      "outputs": []
    },
    {
      "cell_type": "code",
      "source": [],
      "metadata": {
        "id": "Kvb5EeDOnMiT"
      },
      "execution_count": null,
      "outputs": []
    },
    {
      "cell_type": "code",
      "source": [],
      "metadata": {
        "id": "jXIkf6P6nMQ-"
      },
      "execution_count": null,
      "outputs": []
    },
    {
      "cell_type": "code",
      "source": [],
      "metadata": {
        "id": "XVu4V-rNnL9u"
      },
      "execution_count": null,
      "outputs": []
    },
    {
      "cell_type": "code",
      "source": [
        "f"
      ],
      "metadata": {
        "id": "JmreLn7NNqJz"
      },
      "execution_count": null,
      "outputs": []
    },
    {
      "cell_type": "code",
      "source": [],
      "metadata": {
        "id": "UCOEkrna9a1j"
      },
      "execution_count": null,
      "outputs": []
    },
    {
      "cell_type": "code",
      "source": [],
      "metadata": {
        "id": "UKQvt6Pj8UUZ"
      },
      "execution_count": null,
      "outputs": []
    }
  ]
}