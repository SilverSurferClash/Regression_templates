{
 "cells": [
  {
   "cell_type": "code",
   "execution_count": 1,
   "id": "43d9a5eb",
   "metadata": {
    "execution": {
     "iopub.execute_input": "2022-12-25T11:50:55.371566Z",
     "iopub.status.busy": "2022-12-25T11:50:55.371037Z",
     "iopub.status.idle": "2022-12-25T11:50:58.152113Z",
     "shell.execute_reply": "2022-12-25T11:50:58.150964Z"
    },
    "papermill": {
     "duration": 2.791556,
     "end_time": "2022-12-25T11:50:58.155154",
     "exception": false,
     "start_time": "2022-12-25T11:50:55.363598",
     "status": "completed"
    },
    "tags": []
   },
   "outputs": [
    {
     "data": {
      "text/html": [
       "<style type='text/css'>\n",
       ".datatable table.frame { margin-bottom: 0; }\n",
       ".datatable table.frame thead { border-bottom: none; }\n",
       ".datatable table.frame tr.coltypes td {  color: #FFFFFF;  line-height: 6px;  padding: 0 0.5em;}\n",
       ".datatable .bool    { background: #DDDD99; }\n",
       ".datatable .object  { background: #565656; }\n",
       ".datatable .int     { background: #5D9E5D; }\n",
       ".datatable .float   { background: #4040CC; }\n",
       ".datatable .str     { background: #CC4040; }\n",
       ".datatable .time    { background: #40CC40; }\n",
       ".datatable .row_index {  background: var(--jp-border-color3);  border-right: 1px solid var(--jp-border-color0);  color: var(--jp-ui-font-color3);  font-size: 9px;}\n",
       ".datatable .frame tbody td { text-align: left; }\n",
       ".datatable .frame tr.coltypes .row_index {  background: var(--jp-border-color0);}\n",
       ".datatable th:nth-child(2) { padding-left: 12px; }\n",
       ".datatable .hellipsis {  color: var(--jp-cell-editor-border-color);}\n",
       ".datatable .vellipsis {  background: var(--jp-layout-color0);  color: var(--jp-cell-editor-border-color);}\n",
       ".datatable .na {  color: var(--jp-cell-editor-border-color);  font-size: 80%;}\n",
       ".datatable .sp {  opacity: 0.25;}\n",
       ".datatable .footer { font-size: 9px; }\n",
       ".datatable .frame_dimensions {  background: var(--jp-border-color3);  border-top: 1px solid var(--jp-border-color0);  color: var(--jp-ui-font-color3);  display: inline-block;  opacity: 0.6;  padding: 1px 10px 1px 5px;}\n",
       ".datatable .frame thead tr.colnames {  background-image: url('data:image/png;base64,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');  background-repeat: repeat-x;  background-size: 14px;  height: 28px;}\n",
       "</style>\n"
      ],
      "text/plain": [
       "<IPython.core.display.HTML object>"
      ]
     },
     "metadata": {},
     "output_type": "display_data"
    }
   ],
   "source": [
    "import os\n",
    "import time\n",
    "from pathlib import Path\n",
    "import sys\n",
    "import pickle\n",
    "import joblib\n",
    "\n",
    "#Import data manipulation libaries\n",
    "import numpy as np # linear algebra\n",
    "import pandas as pd # data processing, CSV file I/O (e.g. pd.read_csv)\n",
    "\n",
    "#import ploting libraries\n",
    "import matplotlib.pyplot as plt\n",
    "import seaborn as sns\n",
    "\n",
    "#Splitting the data and cross-validation\n",
    "from sklearn.model_selection import train_test_split, GridSearchCV, cross_validate, cross_val_score,KFold, GroupKFold, StratifiedKFold\n",
    "\n",
    "#Metrics\n",
    "#from sklearn.metrics import classification_report,accuracy_score , roc_auc_score\n",
    "from sklearn.metrics import mean_squared_error, roc_auc_score\n",
    "#Classifiers\n",
    "import xgboost as xgb\n",
    "from lightgbm import LGBMClassifier\n",
    "from catboost import CatBoostClassifier\n",
    "from sklearn.linear_model import LogisticRegression, LinearRegression\n",
    "from sklearn.ensemble import RandomForestClassifier, ExtraTreesClassifier\n",
    "\n",
    "#Feature engineerring\n",
    "from sklearn.preprocessing import FunctionTransformer, StandardScaler, OneHotEncoder\n",
    "from sklearn.pipeline import Pipeline, FeatureUnion\n",
    "from sklearn.compose import ColumnTransformer, make_column_transformer\n",
    "\n",
    "#Encoding\n",
    "\n",
    "import category_encoders as ce"
   ]
  },
  {
   "cell_type": "code",
   "execution_count": 2,
   "id": "2356125d",
   "metadata": {
    "execution": {
     "iopub.execute_input": "2022-12-25T11:50:58.168126Z",
     "iopub.status.busy": "2022-12-25T11:50:58.166836Z",
     "iopub.status.idle": "2022-12-25T11:50:58.556019Z",
     "shell.execute_reply": "2022-12-25T11:50:58.554816Z"
    },
    "papermill": {
     "duration": 0.398219,
     "end_time": "2022-12-25T11:50:58.558668",
     "exception": false,
     "start_time": "2022-12-25T11:50:58.160449",
     "status": "completed"
    },
    "tags": []
   },
   "outputs": [],
   "source": [
    "#Optuna optimization\n",
    "\n",
    "import optuna\n",
    "from optuna import Trial, visualization\n",
    "from optuna.samplers import TPESampler"
   ]
  },
  {
   "cell_type": "code",
   "execution_count": 3,
   "id": "ac560934",
   "metadata": {
    "execution": {
     "iopub.execute_input": "2022-12-25T11:50:58.571242Z",
     "iopub.status.busy": "2022-12-25T11:50:58.570789Z",
     "iopub.status.idle": "2022-12-25T11:51:02.969272Z",
     "shell.execute_reply": "2022-12-25T11:51:02.968089Z"
    },
    "papermill": {
     "duration": 4.408093,
     "end_time": "2022-12-25T11:51:02.971881",
     "exception": false,
     "start_time": "2022-12-25T11:50:58.563788",
     "status": "completed"
    },
    "tags": []
   },
   "outputs": [],
   "source": [
    "train_import = pd.read_csv(\"/kaggle/input/tabular-playground-series-mar-2021/train.csv\")\n",
    "test_import = pd.read_csv(\"/kaggle/input/tabular-playground-series-mar-2021/test.csv\")"
   ]
  },
  {
   "cell_type": "code",
   "execution_count": 4,
   "id": "e112987d",
   "metadata": {
    "execution": {
     "iopub.execute_input": "2022-12-25T11:51:02.984499Z",
     "iopub.status.busy": "2022-12-25T11:51:02.983177Z",
     "iopub.status.idle": "2022-12-25T11:51:03.001861Z",
     "shell.execute_reply": "2022-12-25T11:51:03.000590Z"
    },
    "papermill": {
     "duration": 0.027582,
     "end_time": "2022-12-25T11:51:03.004522",
     "exception": false,
     "start_time": "2022-12-25T11:51:02.976940",
     "status": "completed"
    },
    "tags": []
   },
   "outputs": [],
   "source": [
    "def reduce_mem_usage(props):\n",
    "    start_mem_usg = props.memory_usage().sum() / 1024**2 \n",
    "    print(\"Memory usage of properties dataframe is :\",start_mem_usg,\" MB\")\n",
    "    NAlist = [] # Keeps track of columns that have missing values filled in. \n",
    "    for col in props.columns:\n",
    "        if props[col].dtype != object:  # Exclude strings\n",
    "            \n",
    "            # Print current column type\n",
    "            print(\"******************************\")\n",
    "            print(\"Column: \",col)\n",
    "            print(\"dtype before: \",props[col].dtype)\n",
    "                # make variables for Int, max and min\n",
    "            IsInt = False\n",
    "            mx = props[col].max()\n",
    "            mn = props[col].min()\n",
    "            \n",
    "            # Integer does not support NA, therefore, NA needs to be filled\n",
    "            if not np.isfinite(props[col]).all(): \n",
    "                NAlist.append(col)\n",
    "                props[col].fillna(mn-1,inplace=True)  \n",
    "                   \n",
    "            # test if column can be converted to an integer\n",
    "            asint = props[col].fillna(0).astype(np.int64)\n",
    "            result = (props[col] - asint)\n",
    "            result = result.sum()\n",
    "            if result > -0.01 and result < 0.01:\n",
    "                IsInt = True\n",
    "                # Make Integer/unsigned Integer datatypes\n",
    "            if IsInt:\n",
    "                if mn >= 0:\n",
    "                    if mx < 255:\n",
    "                        props[col] = props[col].astype(np.uint8)\n",
    "                    elif mx < 65535:\n",
    "                        props[col] = props[col].astype(np.uint16)\n",
    "                    elif mx < 4294967295:\n",
    "                        props[col] = props[col].astype(np.uint32)\n",
    "                    else:\n",
    "                        props[col] = props[col].astype(np.uint64)\n",
    "                else:\n",
    "                    if mn > np.iinfo(np.int8).min and mx < np.iinfo(np.int8).max:\n",
    "                        props[col] = props[col].astype(np.int8)\n",
    "                    elif mn > np.iinfo(np.int16).min and mx < np.iinfo(np.int16).max:\n",
    "                        props[col] = props[col].astype(np.int16)\n",
    "                    elif mn > np.iinfo(np.int32).min and mx < np.iinfo(np.int32).max:\n",
    "                        props[col] = props[col].astype(np.int32)\n",
    "                    elif mn > np.iinfo(np.int64).min and mx < np.iinfo(np.int64).max:\n",
    "                        props[col] = props[col].astype(np.int64)\n",
    "                          # Make float datatypes 32 bit\n",
    "            else:\n",
    "                props[col] = props[col].astype(np.float32)\n",
    "            \n",
    "            # Print new column type\n",
    "            print(\"dtype after: \",props[col].dtype)\n",
    "            print(\"******************************\")\n",
    "    \n",
    "    # Print final result\n",
    "    print(\"___MEMORY USAGE AFTER COMPLETION:___\")\n",
    "    mem_usg = props.memory_usage().sum() / 1024**2 \n",
    "    print(\"Memory usage is: \",mem_usg,\" MB\")\n",
    "    print(\"This is \",100*mem_usg/start_mem_usg,\"% of the initial size\")\n",
    "    return props, NAlist"
   ]
  },
  {
   "cell_type": "code",
   "execution_count": 5,
   "id": "2ee7fe43",
   "metadata": {
    "execution": {
     "iopub.execute_input": "2022-12-25T11:51:03.017330Z",
     "iopub.status.busy": "2022-12-25T11:51:03.016059Z",
     "iopub.status.idle": "2022-12-25T11:51:03.022370Z",
     "shell.execute_reply": "2022-12-25T11:51:03.021103Z"
    },
    "papermill": {
     "duration": 0.015415,
     "end_time": "2022-12-25T11:51:03.024895",
     "exception": false,
     "start_time": "2022-12-25T11:51:03.009480",
     "status": "completed"
    },
    "tags": []
   },
   "outputs": [],
   "source": [
    "#reduce_mem_usage(train_import)"
   ]
  },
  {
   "cell_type": "code",
   "execution_count": 6,
   "id": "9babae68",
   "metadata": {
    "execution": {
     "iopub.execute_input": "2022-12-25T11:51:03.036784Z",
     "iopub.status.busy": "2022-12-25T11:51:03.036370Z",
     "iopub.status.idle": "2022-12-25T11:51:03.049370Z",
     "shell.execute_reply": "2022-12-25T11:51:03.048192Z"
    },
    "papermill": {
     "duration": 0.021694,
     "end_time": "2022-12-25T11:51:03.051599",
     "exception": false,
     "start_time": "2022-12-25T11:51:03.029905",
     "status": "completed"
    },
    "tags": []
   },
   "outputs": [],
   "source": [
    "# List of colums based on their function\n",
    "# Target\n",
    "target_label  = \"target\"\n",
    "# List of all features\n",
    "all_feature = [col for col in train_import.columns if col not in [\"target\", \"id\"]]\n",
    "# List of numeric features\n",
    "all_numeric = [col for col in all_feature if train_import[col].dtype == \"float64\"]\n",
    "# List of all categorical features\n",
    "all_categorical = [col for col in all_feature if train_import[col].dtype == \"object\"]\n",
    "\n",
    "high_cardinal = \"cat10\"\n",
    "\n",
    "low_cardinal = ['cat0',\n",
    " 'cat1',\n",
    " 'cat2',\n",
    " 'cat3',\n",
    " 'cat4',\n",
    " 'cat5',\n",
    " 'cat6',\n",
    " 'cat7',\n",
    " 'cat8',\n",
    " 'cat9',\n",
    " 'cat11',\n",
    " 'cat12',\n",
    " 'cat13',\n",
    " 'cat14',\n",
    " 'cat15',\n",
    " 'cat16',\n",
    " 'cat17',\n",
    " 'cat18']"
   ]
  },
  {
   "cell_type": "code",
   "execution_count": 7,
   "id": "3207cce9",
   "metadata": {
    "execution": {
     "iopub.execute_input": "2022-12-25T11:51:03.063424Z",
     "iopub.status.busy": "2022-12-25T11:51:03.062987Z",
     "iopub.status.idle": "2022-12-25T11:51:03.163188Z",
     "shell.execute_reply": "2022-12-25T11:51:03.162016Z"
    },
    "papermill": {
     "duration": 0.109059,
     "end_time": "2022-12-25T11:51:03.165712",
     "exception": false,
     "start_time": "2022-12-25T11:51:03.056653",
     "status": "completed"
    },
    "tags": []
   },
   "outputs": [
    {
     "data": {
      "text/plain": [
       "((15000, 30), (15000,), (200000, 30))"
      ]
     },
     "execution_count": 7,
     "metadata": {},
     "output_type": "execute_result"
    }
   ],
   "source": [
    "#Create the training feature matrix, the training feature labels and the same for the\n",
    "#validation set\n",
    "train = train_import.sample(frac = 0.05).copy().reset_index()\n",
    "train_X = train.loc[:, all_feature]\n",
    "train_y = train.loc[:, target_label].values\n",
    "test_X = test_import.loc[:, all_feature]\n",
    "train_X.shape, train_y.shape, test_X.shape"
   ]
  },
  {
   "cell_type": "code",
   "execution_count": 8,
   "id": "c4f570ae",
   "metadata": {
    "execution": {
     "iopub.execute_input": "2022-12-25T11:51:03.178364Z",
     "iopub.status.busy": "2022-12-25T11:51:03.177667Z",
     "iopub.status.idle": "2022-12-25T11:51:03.184967Z",
     "shell.execute_reply": "2022-12-25T11:51:03.184006Z"
    },
    "papermill": {
     "duration": 0.016653,
     "end_time": "2022-12-25T11:51:03.187430",
     "exception": false,
     "start_time": "2022-12-25T11:51:03.170777",
     "status": "completed"
    },
    "tags": []
   },
   "outputs": [],
   "source": [
    "# Helper Code to make the code adaptible for the future\n",
    "train_split_X = train_X.copy()\n",
    "train_split_y = pd.DataFrame(train_y.copy())"
   ]
  },
  {
   "cell_type": "code",
   "execution_count": 9,
   "id": "c4b2701c",
   "metadata": {
    "execution": {
     "iopub.execute_input": "2022-12-25T11:51:03.199438Z",
     "iopub.status.busy": "2022-12-25T11:51:03.198674Z",
     "iopub.status.idle": "2022-12-25T11:51:03.203735Z",
     "shell.execute_reply": "2022-12-25T11:51:03.202593Z"
    },
    "papermill": {
     "duration": 0.013703,
     "end_time": "2022-12-25T11:51:03.206180",
     "exception": false,
     "start_time": "2022-12-25T11:51:03.192477",
     "status": "completed"
    },
    "tags": []
   },
   "outputs": [],
   "source": [
    "#Set up validation scheme\n",
    "n_folds = 5\n",
    "splitter = StratifiedKFold(n_splits=n_folds)"
   ]
  },
  {
   "cell_type": "code",
   "execution_count": 10,
   "id": "33b0e7cf",
   "metadata": {
    "execution": {
     "iopub.execute_input": "2022-12-25T11:51:03.217718Z",
     "iopub.status.busy": "2022-12-25T11:51:03.217331Z",
     "iopub.status.idle": "2022-12-25T11:51:03.223269Z",
     "shell.execute_reply": "2022-12-25T11:51:03.222015Z"
    },
    "papermill": {
     "duration": 0.014422,
     "end_time": "2022-12-25T11:51:03.225561",
     "exception": false,
     "start_time": "2022-12-25T11:51:03.211139",
     "status": "completed"
    },
    "tags": []
   },
   "outputs": [],
   "source": [
    "preprocess_continuous = Pipeline(steps=[('scaler', StandardScaler())])\n",
    "preprocess_categorical = Pipeline(steps=[('encoder',\n",
    "ce.OneHotEncoder(cols=all_categorical))])"
   ]
  },
  {
   "cell_type": "code",
   "execution_count": 11,
   "id": "6b26464a",
   "metadata": {
    "execution": {
     "iopub.execute_input": "2022-12-25T11:51:03.237735Z",
     "iopub.status.busy": "2022-12-25T11:51:03.236923Z",
     "iopub.status.idle": "2022-12-25T11:51:03.242748Z",
     "shell.execute_reply": "2022-12-25T11:51:03.241566Z"
    },
    "papermill": {
     "duration": 0.01449,
     "end_time": "2022-12-25T11:51:03.245070",
     "exception": false,
     "start_time": "2022-12-25T11:51:03.230580",
     "status": "completed"
    },
    "tags": []
   },
   "outputs": [],
   "source": [
    "ct = ColumnTransformer(\n",
    "transformers=[('continuous', #A\n",
    "preprocess_continuous, all_numeric),\n",
    "('categorical', #B\n",
    "preprocess_categorical, all_categorical)],\n",
    "remainder='passthrough')"
   ]
  },
  {
   "cell_type": "code",
   "execution_count": 12,
   "id": "d08035d5",
   "metadata": {
    "execution": {
     "iopub.execute_input": "2022-12-25T11:51:03.256877Z",
     "iopub.status.busy": "2022-12-25T11:51:03.256487Z",
     "iopub.status.idle": "2022-12-25T11:51:03.261943Z",
     "shell.execute_reply": "2022-12-25T11:51:03.260877Z"
    },
    "papermill": {
     "duration": 0.014483,
     "end_time": "2022-12-25T11:51:03.264502",
     "exception": false,
     "start_time": "2022-12-25T11:51:03.250019",
     "status": "completed"
    },
    "tags": []
   },
   "outputs": [],
   "source": [
    "model = xgb.XGBClassifier(objective=\"binary:logistic\", random_state=42)"
   ]
  },
  {
   "cell_type": "code",
   "execution_count": 13,
   "id": "57a3dc86",
   "metadata": {
    "execution": {
     "iopub.execute_input": "2022-12-25T11:51:03.275952Z",
     "iopub.status.busy": "2022-12-25T11:51:03.275584Z",
     "iopub.status.idle": "2022-12-25T11:51:03.280295Z",
     "shell.execute_reply": "2022-12-25T11:51:03.279108Z"
    },
    "papermill": {
     "duration": 0.013152,
     "end_time": "2022-12-25T11:51:03.282623",
     "exception": false,
     "start_time": "2022-12-25T11:51:03.269471",
     "status": "completed"
    },
    "tags": []
   },
   "outputs": [],
   "source": [
    "#model = LogisticRegression()"
   ]
  },
  {
   "cell_type": "code",
   "execution_count": 14,
   "id": "ef691a6b",
   "metadata": {
    "execution": {
     "iopub.execute_input": "2022-12-25T11:51:03.295515Z",
     "iopub.status.busy": "2022-12-25T11:51:03.295145Z",
     "iopub.status.idle": "2022-12-25T11:52:17.143698Z",
     "shell.execute_reply": "2022-12-25T11:52:17.142722Z"
    },
    "papermill": {
     "duration": 73.865515,
     "end_time": "2022-12-25T11:52:17.153172",
     "exception": false,
     "start_time": "2022-12-25T11:51:03.287657",
     "status": "completed"
    },
    "tags": []
   },
   "outputs": [
    {
     "name": "stdout",
     "output_type": "stream",
     "text": [
      "The average training ROC is 0.990\n",
      "The average validation ROC is 0.872\n"
     ]
    }
   ],
   "source": [
    "train_list = [] # An numpy array with a length of the number of folds\n",
    "val_list = []\n",
    "\n",
    "\n",
    "#for i, rate in enumerate(learning_rates): #D\n",
    "for trn, val in splitter.split(train_split_X, train_split_y): #Create indexes for the train and validation set  \n",
    "    \n",
    "    Xtrain = train_split_X.iloc[trn]\n",
    "    Xval = train_split_X.iloc[val]\n",
    "    ytrain = train_split_y.iloc[trn]\n",
    "    yval = train_split_y.iloc[val]\n",
    "    \n",
    "    Xtrain_prepocessed = ct.fit_transform(Xtrain, ytrain)\n",
    "    Xval_preprocessed = ct.transform(Xval)\n",
    "    \n",
    "    model.fit(Xtrain_prepocessed, ytrain)\n",
    "  \n",
    "    train_pred =  model.predict_proba(Xtrain_prepocessed)[:,1]\n",
    "    train_score = roc_auc_score(ytrain, train_pred)\n",
    "    \n",
    "    \n",
    "    valid_pred = model.predict_proba(Xval_preprocessed)[:,1]\n",
    "    valid_score = roc_auc_score(yval, valid_pred)\n",
    "\n",
    "    \n",
    "    train_list.append(train_score)\n",
    "    \n",
    "    val_list.append(valid_score)\n",
    "    # Append the results from the importance score to a list\n",
    "    \n",
    "    \n",
    "print(f\"The average training ROC is {np.mean(train_list):.3f}\")\n",
    "print(f\"The average validation ROC is {np.mean(val_list):.3f}\")"
   ]
  },
  {
   "cell_type": "code",
   "execution_count": 15,
   "id": "7bd560a3",
   "metadata": {
    "execution": {
     "iopub.execute_input": "2022-12-25T11:52:17.165858Z",
     "iopub.status.busy": "2022-12-25T11:52:17.165451Z",
     "iopub.status.idle": "2022-12-25T11:52:17.172273Z",
     "shell.execute_reply": "2022-12-25T11:52:17.170556Z"
    },
    "papermill": {
     "duration": 0.015797,
     "end_time": "2022-12-25T11:52:17.174666",
     "exception": false,
     "start_time": "2022-12-25T11:52:17.158869",
     "status": "completed"
    },
    "tags": []
   },
   "outputs": [
    {
     "name": "stdout",
     "output_type": "stream",
     "text": [
      "The average validation ROC is 0.872\n"
     ]
    }
   ],
   "source": [
    "print(f\"The average validation ROC is {np.mean(val_list):.3f}\")"
   ]
  },
  {
   "cell_type": "code",
   "execution_count": 16,
   "id": "d924fe14",
   "metadata": {
    "execution": {
     "iopub.execute_input": "2022-12-25T11:52:17.186854Z",
     "iopub.status.busy": "2022-12-25T11:52:17.186453Z",
     "iopub.status.idle": "2022-12-25T11:52:17.190906Z",
     "shell.execute_reply": "2022-12-25T11:52:17.189818Z"
    },
    "papermill": {
     "duration": 0.013538,
     "end_time": "2022-12-25T11:52:17.193296",
     "exception": false,
     "start_time": "2022-12-25T11:52:17.179758",
     "status": "completed"
    },
    "tags": []
   },
   "outputs": [],
   "source": [
    "#Ideas: separte lists for binary, ordinal and nominal categoroes "
   ]
  }
 ],
 "metadata": {
  "kernelspec": {
   "display_name": "Python 3",
   "language": "python",
   "name": "python3"
  },
  "language_info": {
   "codemirror_mode": {
    "name": "ipython",
    "version": 3
   },
   "file_extension": ".py",
   "mimetype": "text/x-python",
   "name": "python",
   "nbconvert_exporter": "python",
   "pygments_lexer": "ipython3",
   "version": "3.7.12"
  },
  "papermill": {
   "default_parameters": {},
   "duration": 92.414213,
   "end_time": "2022-12-25T11:52:18.220856",
   "environment_variables": {},
   "exception": null,
   "input_path": "__notebook__.ipynb",
   "output_path": "__notebook__.ipynb",
   "parameters": {},
   "start_time": "2022-12-25T11:50:45.806643",
   "version": "2.3.4"
  }
 },
 "nbformat": 4,
 "nbformat_minor": 5
}
