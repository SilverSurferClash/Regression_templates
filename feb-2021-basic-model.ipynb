{
 "cells": [
  {
   "cell_type": "code",
   "execution_count": 1,
   "id": "a67b8064",
   "metadata": {
    "_cell_guid": "b1076dfc-b9ad-4769-8c92-a6c4dae69d19",
    "_uuid": "8f2839f25d086af736a60e9eeb907d3b93b6e0e5",
    "execution": {
     "iopub.execute_input": "2022-11-28T08:26:17.411596Z",
     "iopub.status.busy": "2022-11-28T08:26:17.410925Z",
     "iopub.status.idle": "2022-11-28T08:26:21.089169Z",
     "shell.execute_reply": "2022-11-28T08:26:21.088157Z"
    },
    "papermill": {
     "duration": 3.692663,
     "end_time": "2022-11-28T08:26:21.092025",
     "exception": false,
     "start_time": "2022-11-28T08:26:17.399362",
     "status": "completed"
    },
    "tags": []
   },
   "outputs": [
    {
     "data": {
      "text/html": [
       "<style type='text/css'>\n",
       ".datatable table.frame { margin-bottom: 0; }\n",
       ".datatable table.frame thead { border-bottom: none; }\n",
       ".datatable table.frame tr.coltypes td {  color: #FFFFFF;  line-height: 6px;  padding: 0 0.5em;}\n",
       ".datatable .bool    { background: #DDDD99; }\n",
       ".datatable .object  { background: #565656; }\n",
       ".datatable .int     { background: #5D9E5D; }\n",
       ".datatable .float   { background: #4040CC; }\n",
       ".datatable .str     { background: #CC4040; }\n",
       ".datatable .time    { background: #40CC40; }\n",
       ".datatable .row_index {  background: var(--jp-border-color3);  border-right: 1px solid var(--jp-border-color0);  color: var(--jp-ui-font-color3);  font-size: 9px;}\n",
       ".datatable .frame tbody td { text-align: left; }\n",
       ".datatable .frame tr.coltypes .row_index {  background: var(--jp-border-color0);}\n",
       ".datatable th:nth-child(2) { padding-left: 12px; }\n",
       ".datatable .hellipsis {  color: var(--jp-cell-editor-border-color);}\n",
       ".datatable .vellipsis {  background: var(--jp-layout-color0);  color: var(--jp-cell-editor-border-color);}\n",
       ".datatable .na {  color: var(--jp-cell-editor-border-color);  font-size: 80%;}\n",
       ".datatable .sp {  opacity: 0.25;}\n",
       ".datatable .footer { font-size: 9px; }\n",
       ".datatable .frame_dimensions {  background: var(--jp-border-color3);  border-top: 1px solid var(--jp-border-color0);  color: var(--jp-ui-font-color3);  display: inline-block;  opacity: 0.6;  padding: 1px 10px 1px 5px;}\n",
       "</style>\n"
      ],
      "text/plain": [
       "<IPython.core.display.HTML object>"
      ]
     },
     "metadata": {},
     "output_type": "display_data"
    }
   ],
   "source": [
    "# This Python 3 environment comes with many helpful analytics libraries installed\n",
    "# It is defined by the kaggle/python Docker image: https://github.com/kaggle/docker-python\n",
    "# For example, here's several helpful packages to load\n",
    "#Import os libaries\n",
    "import os\n",
    "import time\n",
    "from pathlib import Path\n",
    "import sys\n",
    "import pickle\n",
    "import joblib\n",
    "\n",
    "#Import data manipulation libaries\n",
    "import numpy as np # linear algebra\n",
    "import pandas as pd # data processing, CSV file I/O (e.g. pd.read_csv)\n",
    "\n",
    "#import ploting libraries\n",
    "import matplotlib.pyplot as plt\n",
    "import seaborn as sns\n",
    "\n",
    "#Splitting the data and cross-validation\n",
    "from sklearn.model_selection import train_test_split, GridSearchCV, cross_validate, cross_val_score,KFold, GroupKFold, StratifiedKFold\n",
    "\n",
    "#Metrics\n",
    "#from sklearn.metrics import classification_report,accuracy_score , roc_auc_score\n",
    "from sklearn.metrics import mean_squared_error\n",
    "#Classifiers\n",
    "import xgboost as xgb\n",
    "from lightgbm import LGBMClassifier\n",
    "from catboost import CatBoostClassifier\n",
    "from sklearn.linear_model import LogisticRegression, LinearRegression\n",
    "from sklearn.ensemble import RandomForestClassifier, ExtraTreesClassifier\n",
    "\n",
    "#Feature engineerring\n",
    "from sklearn.preprocessing import FunctionTransformer, StandardScaler, OneHotEncoder\n",
    "from sklearn.pipeline import Pipeline, FeatureUnion\n",
    "from sklearn.compose import ColumnTransformer, make_column_transformer\n",
    "\n"
   ]
  },
  {
   "cell_type": "code",
   "execution_count": 2,
   "id": "9b2ef0b6",
   "metadata": {
    "execution": {
     "iopub.execute_input": "2022-11-28T08:26:21.105578Z",
     "iopub.status.busy": "2022-11-28T08:26:21.105220Z",
     "iopub.status.idle": "2022-11-28T08:26:21.111390Z",
     "shell.execute_reply": "2022-11-28T08:26:21.110501Z"
    },
    "papermill": {
     "duration": 0.015247,
     "end_time": "2022-11-28T08:26:21.113599",
     "exception": false,
     "start_time": "2022-11-28T08:26:21.098352",
     "status": "completed"
    },
    "tags": []
   },
   "outputs": [],
   "source": [
    "#Notebook settings\n",
    "# To define maximum number of columns to be displayed in a dataframe\n",
    "pd.set_option('display.max_columns', None)\n",
    "\n",
    "# To supress warnings\n",
    "import warnings\n",
    "warnings.filterwarnings('ignore')\n",
    "\n",
    "#Set the theme for seaborn\n",
    "#sns.set_theme(style=\"darkgrid\")\n",
    "pd.set_option('display.precision', 2)\n",
    "\n",
    "#Set dark theme\n",
    "plt.style.use('dark_background')"
   ]
  },
  {
   "cell_type": "code",
   "execution_count": 3,
   "id": "36e7f5ba",
   "metadata": {
    "execution": {
     "iopub.execute_input": "2022-11-28T08:26:21.126014Z",
     "iopub.status.busy": "2022-11-28T08:26:21.125742Z",
     "iopub.status.idle": "2022-11-28T08:26:24.932037Z",
     "shell.execute_reply": "2022-11-28T08:26:24.931011Z"
    },
    "papermill": {
     "duration": 3.815294,
     "end_time": "2022-11-28T08:26:24.934547",
     "exception": false,
     "start_time": "2022-11-28T08:26:21.119253",
     "status": "completed"
    },
    "tags": []
   },
   "outputs": [],
   "source": [
    "train_import = pd.read_csv(\"/kaggle/input/tabular-playground-series-feb-2021/train.csv\")\n",
    "test_import = pd.read_csv(\"/kaggle/input/tabular-playground-series-feb-2021/test.csv\")"
   ]
  },
  {
   "cell_type": "markdown",
   "id": "bf419c79",
   "metadata": {
    "papermill": {
     "duration": 0.005461,
     "end_time": "2022-11-28T08:26:24.945907",
     "exception": false,
     "start_time": "2022-11-28T08:26:24.940446",
     "status": "completed"
    },
    "tags": []
   },
   "source": [
    "#### List of different feature sets"
   ]
  },
  {
   "cell_type": "code",
   "execution_count": 4,
   "id": "c023eec0",
   "metadata": {
    "execution": {
     "iopub.execute_input": "2022-11-28T08:26:24.958610Z",
     "iopub.status.busy": "2022-11-28T08:26:24.958294Z",
     "iopub.status.idle": "2022-11-28T08:26:24.971317Z",
     "shell.execute_reply": "2022-11-28T08:26:24.970431Z"
    },
    "papermill": {
     "duration": 0.021918,
     "end_time": "2022-11-28T08:26:24.973654",
     "exception": false,
     "start_time": "2022-11-28T08:26:24.951736",
     "status": "completed"
    },
    "tags": []
   },
   "outputs": [],
   "source": [
    "# List of colums based on their function\n",
    "# Target\n",
    "target_label  = \"target\"\n",
    "# List of all features\n",
    "all_feature = [col for col in train_import.columns if col != \"target\"]\n",
    "# List of numeric features\n",
    "all_numeric = [col for col in all_feature if train_import[col].dtype == \"float64\"]\n",
    "# List of all categorical features\n",
    "all_categorical = [col for col in all_feature if train_import[col].dtype == \"object\"]"
   ]
  },
  {
   "cell_type": "code",
   "execution_count": 5,
   "id": "d800987e",
   "metadata": {
    "execution": {
     "iopub.execute_input": "2022-11-28T08:26:24.986193Z",
     "iopub.status.busy": "2022-11-28T08:26:24.985911Z",
     "iopub.status.idle": "2022-11-28T08:26:24.990207Z",
     "shell.execute_reply": "2022-11-28T08:26:24.989204Z"
    },
    "papermill": {
     "duration": 0.013157,
     "end_time": "2022-11-28T08:26:24.992358",
     "exception": false,
     "start_time": "2022-11-28T08:26:24.979201",
     "status": "completed"
    },
    "tags": []
   },
   "outputs": [],
   "source": [
    "#Step 0: Drop non-essential columns\n",
    "#Step 1: Perform imputation or encoding of missing data\n",
    "#Step 2: Perform encoding for the different categorical columns\n",
    "#Step 3: feature transformation of numeric features\n",
    "#Step 4: feature generation by aggregation/groupby function\n",
    "#Step 5: "
   ]
  },
  {
   "cell_type": "markdown",
   "id": "308fe18e",
   "metadata": {
    "papermill": {
     "duration": 0.007055,
     "end_time": "2022-11-28T08:26:25.004919",
     "exception": false,
     "start_time": "2022-11-28T08:26:24.997864",
     "status": "completed"
    },
    "tags": []
   },
   "source": [
    "### Create the feature matrix and target values"
   ]
  },
  {
   "cell_type": "code",
   "execution_count": 6,
   "id": "a1a9105c",
   "metadata": {
    "execution": {
     "iopub.execute_input": "2022-11-28T08:26:25.017315Z",
     "iopub.status.busy": "2022-11-28T08:26:25.017043Z",
     "iopub.status.idle": "2022-11-28T08:26:25.307606Z",
     "shell.execute_reply": "2022-11-28T08:26:25.306530Z"
    },
    "papermill": {
     "duration": 0.299789,
     "end_time": "2022-11-28T08:26:25.310305",
     "exception": false,
     "start_time": "2022-11-28T08:26:25.010516",
     "status": "completed"
    },
    "tags": []
   },
   "outputs": [
    {
     "data": {
      "text/plain": [
       "((300000, 25), (300000, 1))"
      ]
     },
     "execution_count": 6,
     "metadata": {},
     "output_type": "execute_result"
    }
   ],
   "source": [
    "#Create the training feature matrix, the training feature labels and the same for the\n",
    "#validation set\n",
    "\n",
    "train = train_import.sample(frac = 1).copy()\n",
    "train_X = train.loc[:, all_feature]\n",
    "train_y = train.loc[:, [target_label]].values\n",
    "train_X.shape, train_y.shape"
   ]
  },
  {
   "cell_type": "markdown",
   "id": "80ab6670",
   "metadata": {
    "papermill": {
     "duration": 0.005461,
     "end_time": "2022-11-28T08:26:25.322004",
     "exception": false,
     "start_time": "2022-11-28T08:26:25.316543",
     "status": "completed"
    },
    "tags": []
   },
   "source": [
    "### Encoding"
   ]
  },
  {
   "cell_type": "code",
   "execution_count": 7,
   "id": "9acef816",
   "metadata": {
    "execution": {
     "iopub.execute_input": "2022-11-28T08:26:25.336750Z",
     "iopub.status.busy": "2022-11-28T08:26:25.335664Z",
     "iopub.status.idle": "2022-11-28T08:26:25.513395Z",
     "shell.execute_reply": "2022-11-28T08:26:25.512441Z"
    },
    "papermill": {
     "duration": 0.187735,
     "end_time": "2022-11-28T08:26:25.516138",
     "exception": false,
     "start_time": "2022-11-28T08:26:25.328403",
     "status": "completed"
    },
    "tags": []
   },
   "outputs": [],
   "source": [
    "#Start with basic OHE-encoding\n",
    "import category_encoders as ce\n",
    "\n",
    "ohe_encoder = ce.one_hot.OneHotEncoder(use_cat_names = True) \n",
    "#ohe_transformer = Pipeline(steps=[('ohe',ce.one_hot.OneHotEncoder(use_cat_names = True))])"
   ]
  },
  {
   "cell_type": "code",
   "execution_count": null,
   "id": "88d23892",
   "metadata": {
    "papermill": {
     "duration": 0.005853,
     "end_time": "2022-11-28T08:26:25.528624",
     "exception": false,
     "start_time": "2022-11-28T08:26:25.522771",
     "status": "completed"
    },
    "tags": []
   },
   "outputs": [],
   "source": []
  },
  {
   "cell_type": "code",
   "execution_count": 8,
   "id": "c5a5835f",
   "metadata": {
    "execution": {
     "iopub.execute_input": "2022-11-28T08:26:25.542136Z",
     "iopub.status.busy": "2022-11-28T08:26:25.541810Z",
     "iopub.status.idle": "2022-11-28T08:26:25.547349Z",
     "shell.execute_reply": "2022-11-28T08:26:25.546249Z"
    },
    "papermill": {
     "duration": 0.015187,
     "end_time": "2022-11-28T08:26:25.549901",
     "exception": false,
     "start_time": "2022-11-28T08:26:25.534714",
     "status": "completed"
    },
    "tags": []
   },
   "outputs": [],
   "source": [
    "preproc = make_column_transformer(\n",
    "(ohe_encoder,\n",
    "    all_categorical),\n",
    "    remainder = \"passthrough\"\n",
    "    )"
   ]
  },
  {
   "cell_type": "code",
   "execution_count": 9,
   "id": "cb5d9312",
   "metadata": {
    "execution": {
     "iopub.execute_input": "2022-11-28T08:26:25.562814Z",
     "iopub.status.busy": "2022-11-28T08:26:25.562561Z",
     "iopub.status.idle": "2022-11-28T08:26:29.515971Z",
     "shell.execute_reply": "2022-11-28T08:26:29.514917Z"
    },
    "papermill": {
     "duration": 3.962831,
     "end_time": "2022-11-28T08:26:29.518727",
     "exception": false,
     "start_time": "2022-11-28T08:26:25.555896",
     "status": "completed"
    },
    "tags": []
   },
   "outputs": [
    {
     "data": {
      "text/plain": [
       "(300000, 71)"
      ]
     },
     "execution_count": 9,
     "metadata": {},
     "output_type": "execute_result"
    }
   ],
   "source": [
    "#Start with the pipeline outside the cross validation loop\n",
    "preproc_df = preproc.fit_transform(train_X)\n",
    "preproc_df.shape\n",
    "#preproc_df = pd.DataFrame( preproc.fit_transform(train_X), columns = preproc.get_feature_names())\n",
    "\n",
    "\n",
    "#preprocessor = ColumnTransformer(\n",
    " #   transformers=[('ohe', ohe_transformer, all_categorical)])\n",
    "    "
   ]
  },
  {
   "cell_type": "code",
   "execution_count": 10,
   "id": "001da183",
   "metadata": {
    "execution": {
     "iopub.execute_input": "2022-11-28T08:26:29.533978Z",
     "iopub.status.busy": "2022-11-28T08:26:29.533663Z",
     "iopub.status.idle": "2022-11-28T08:26:29.540093Z",
     "shell.execute_reply": "2022-11-28T08:26:29.539117Z"
    },
    "papermill": {
     "duration": 0.015688,
     "end_time": "2022-11-28T08:26:29.542267",
     "exception": false,
     "start_time": "2022-11-28T08:26:29.526579",
     "status": "completed"
    },
    "tags": []
   },
   "outputs": [
    {
     "data": {
      "text/plain": [
       "(numpy.ndarray, numpy.ndarray)"
      ]
     },
     "execution_count": 10,
     "metadata": {},
     "output_type": "execute_result"
    }
   ],
   "source": [
    "type(preproc_df),type(train_y)"
   ]
  },
  {
   "cell_type": "code",
   "execution_count": 11,
   "id": "9d90c551",
   "metadata": {
    "execution": {
     "iopub.execute_input": "2022-11-28T08:26:29.556149Z",
     "iopub.status.busy": "2022-11-28T08:26:29.555852Z",
     "iopub.status.idle": "2022-11-28T08:26:29.560089Z",
     "shell.execute_reply": "2022-11-28T08:26:29.559025Z"
    },
    "papermill": {
     "duration": 0.013769,
     "end_time": "2022-11-28T08:26:29.562596",
     "exception": false,
     "start_time": "2022-11-28T08:26:29.548827",
     "status": "completed"
    },
    "tags": []
   },
   "outputs": [],
   "source": [
    "#preproc_df.info()"
   ]
  },
  {
   "cell_type": "markdown",
   "id": "8fe2274b",
   "metadata": {
    "papermill": {
     "duration": 0.005949,
     "end_time": "2022-11-28T08:26:29.574547",
     "exception": false,
     "start_time": "2022-11-28T08:26:29.568598",
     "status": "completed"
    },
    "tags": []
   },
   "source": [
    "### Test/Train split"
   ]
  },
  {
   "cell_type": "code",
   "execution_count": 12,
   "id": "5f96f532",
   "metadata": {
    "execution": {
     "iopub.execute_input": "2022-11-28T08:26:29.588360Z",
     "iopub.status.busy": "2022-11-28T08:26:29.588099Z",
     "iopub.status.idle": "2022-11-28T08:26:29.592458Z",
     "shell.execute_reply": "2022-11-28T08:26:29.591424Z"
    },
    "papermill": {
     "duration": 0.013875,
     "end_time": "2022-11-28T08:26:29.594854",
     "exception": false,
     "start_time": "2022-11-28T08:26:29.580979",
     "status": "completed"
    },
    "tags": []
   },
   "outputs": [],
   "source": [
    "# n_learning_rate_steps, n_folds = 5, 5 #A\n",
    "# learning_rates = np.linspace(0.02, 0.1, num=n_learning_rate_steps)\n",
    "\n",
    "# trn_err = np.zeros((n_learning_rate_steps, n_folds)) #C\n",
    "# val_err = np.zeros((n_learning_rate_steps, n_folds))"
   ]
  },
  {
   "cell_type": "code",
   "execution_count": 13,
   "id": "dc466faf",
   "metadata": {
    "execution": {
     "iopub.execute_input": "2022-11-28T08:26:29.608482Z",
     "iopub.status.busy": "2022-11-28T08:26:29.608202Z",
     "iopub.status.idle": "2022-11-28T08:26:29.613925Z",
     "shell.execute_reply": "2022-11-28T08:26:29.613008Z"
    },
    "papermill": {
     "duration": 0.014817,
     "end_time": "2022-11-28T08:26:29.615770",
     "exception": false,
     "start_time": "2022-11-28T08:26:29.600953",
     "status": "completed"
    },
    "tags": []
   },
   "outputs": [],
   "source": [
    "#Define the validation strategy - how should the training data be split\n",
    "n_folds = 5\n",
    "splitter = KFold(n_splits=n_folds, shuffle=True, random_state=42) #B"
   ]
  },
  {
   "cell_type": "code",
   "execution_count": 14,
   "id": "028df359",
   "metadata": {
    "execution": {
     "iopub.execute_input": "2022-11-28T08:26:29.630343Z",
     "iopub.status.busy": "2022-11-28T08:26:29.629820Z",
     "iopub.status.idle": "2022-11-28T08:26:29.634216Z",
     "shell.execute_reply": "2022-11-28T08:26:29.633137Z"
    },
    "papermill": {
     "duration": 0.014019,
     "end_time": "2022-11-28T08:26:29.636556",
     "exception": false,
     "start_time": "2022-11-28T08:26:29.622537",
     "status": "completed"
    },
    "tags": []
   },
   "outputs": [],
   "source": [
    "#Validation loop with one hyperparameter for optimisation\n",
    "\n",
    "# for i, rate in enumerate(learning_rates): #D\n",
    "#     for j, (trn, val) in enumerate(splitter.split(preproc_df)):  \n",
    "#         model = xgb.XGBRegressor(eta=rate, tree_method='gpu_hist')\n",
    "#         model.fit(preproc_df[trn, :], train_y[trn])\n",
    "#         pred_error_train = model.predict(preproc_df[trn, :])\n",
    "#         pred_error_val = model.predict(preproc_df[val, :])\n",
    "        \n",
    "#         trn_err[i,j] = mean_squared_error(train_y[trn],pred_error_train)\n",
    "#         val_err[i,j] = mean_squared_error(train_y[val],pred_error_val)\n",
    "\n",
    "# trn_err = np.mean(trn_err, axis = 1) #E\n",
    "# val_err = np.mean(val_err, axis = 1)\n",
    "#print(trn_err)\n",
    "#print(val_err)"
   ]
  },
  {
   "cell_type": "code",
   "execution_count": 15,
   "id": "5d5cf3ae",
   "metadata": {
    "execution": {
     "iopub.execute_input": "2022-11-28T08:26:29.650144Z",
     "iopub.status.busy": "2022-11-28T08:26:29.649834Z",
     "iopub.status.idle": "2022-11-28T08:26:29.653698Z",
     "shell.execute_reply": "2022-11-28T08:26:29.652622Z"
    },
    "papermill": {
     "duration": 0.013436,
     "end_time": "2022-11-28T08:26:29.656008",
     "exception": false,
     "start_time": "2022-11-28T08:26:29.642572",
     "status": "completed"
    },
    "tags": []
   },
   "outputs": [],
   "source": [
    "# print(trn_err)\n",
    "# print(val_err)"
   ]
  },
  {
   "cell_type": "code",
   "execution_count": 16,
   "id": "591f78c7",
   "metadata": {
    "execution": {
     "iopub.execute_input": "2022-11-28T08:26:29.669099Z",
     "iopub.status.busy": "2022-11-28T08:26:29.668847Z",
     "iopub.status.idle": "2022-11-28T08:26:29.673597Z",
     "shell.execute_reply": "2022-11-28T08:26:29.672755Z"
    },
    "papermill": {
     "duration": 0.013817,
     "end_time": "2022-11-28T08:26:29.675784",
     "exception": false,
     "start_time": "2022-11-28T08:26:29.661967",
     "status": "completed"
    },
    "tags": []
   },
   "outputs": [],
   "source": [
    "#model = LinearRegression()\n",
    "#model = xgb.XGBRegressor(n_estimators=1000, max_depth=7, eta= 0.1, subsample=0.7, colsample_bytree=0.8)"
   ]
  },
  {
   "cell_type": "code",
   "execution_count": 17,
   "id": "421005d5",
   "metadata": {
    "execution": {
     "iopub.execute_input": "2022-11-28T08:26:29.688954Z",
     "iopub.status.busy": "2022-11-28T08:26:29.688485Z",
     "iopub.status.idle": "2022-11-28T08:26:43.137368Z",
     "shell.execute_reply": "2022-11-28T08:26:43.136531Z"
    },
    "papermill": {
     "duration": 13.458018,
     "end_time": "2022-11-28T08:26:43.139738",
     "exception": false,
     "start_time": "2022-11-28T08:26:29.681720",
     "status": "completed"
    },
    "tags": []
   },
   "outputs": [],
   "source": [
    "train_err = np.zeros( n_folds) \n",
    "valid_err = np.zeros(n_folds)\n",
    "\n",
    "#for i, rate in enumerate(learning_rates): #D\n",
    "for j, (trn, val) in enumerate(splitter.split(preproc_df)):  \n",
    "    model = xgb.XGBRegressor(eta=0.1, tree_method='gpu_hist')\n",
    "    model.fit(preproc_df[trn, :], train_y[trn])\n",
    "    train_err[j] = mean_squared_error(train_y[trn],\n",
    "                        model.predict(preproc_df[trn, :]))\n",
    "    \n",
    "    valid_err[j] = mean_squared_error(train_y[val],\n",
    "                        model.predict(preproc_df[val, :]))\n",
    "tr = np.mean(train_err) #E\n",
    "valid = np.mean(valid_err)\n",
    "#print(trn_err)\n",
    "#print(val_err)"
   ]
  },
  {
   "cell_type": "code",
   "execution_count": 18,
   "id": "ebc87c24",
   "metadata": {
    "execution": {
     "iopub.execute_input": "2022-11-28T08:26:43.154869Z",
     "iopub.status.busy": "2022-11-28T08:26:43.154530Z",
     "iopub.status.idle": "2022-11-28T08:26:43.159970Z",
     "shell.execute_reply": "2022-11-28T08:26:43.158900Z"
    },
    "papermill": {
     "duration": 0.016971,
     "end_time": "2022-11-28T08:26:43.163893",
     "exception": false,
     "start_time": "2022-11-28T08:26:43.146922",
     "status": "completed"
    },
    "tags": []
   },
   "outputs": [
    {
     "name": "stdout",
     "output_type": "stream",
     "text": [
      "0.6914794871663341\n",
      "0.7180451586476149\n"
     ]
    }
   ],
   "source": [
    "print(tr)\n",
    "print(valid)"
   ]
  },
  {
   "cell_type": "code",
   "execution_count": 19,
   "id": "06617f15",
   "metadata": {
    "execution": {
     "iopub.execute_input": "2022-11-28T08:26:43.176877Z",
     "iopub.status.busy": "2022-11-28T08:26:43.176620Z",
     "iopub.status.idle": "2022-11-28T08:26:44.850223Z",
     "shell.execute_reply": "2022-11-28T08:26:44.849411Z"
    },
    "papermill": {
     "duration": 1.682843,
     "end_time": "2022-11-28T08:26:44.852665",
     "exception": false,
     "start_time": "2022-11-28T08:26:43.169822",
     "status": "completed"
    },
    "tags": []
   },
   "outputs": [],
   "source": [
    "#Train model on whole data set\n",
    "model_full_train = model.fit(preproc_df, train_y)"
   ]
  },
  {
   "cell_type": "code",
   "execution_count": 20,
   "id": "9d1b4a87",
   "metadata": {
    "execution": {
     "iopub.execute_input": "2022-11-28T08:26:44.866551Z",
     "iopub.status.busy": "2022-11-28T08:26:44.866222Z",
     "iopub.status.idle": "2022-11-28T08:26:44.872940Z",
     "shell.execute_reply": "2022-11-28T08:26:44.871877Z"
    },
    "papermill": {
     "duration": 0.016158,
     "end_time": "2022-11-28T08:26:44.875122",
     "exception": false,
     "start_time": "2022-11-28T08:26:44.858964",
     "status": "completed"
    },
    "tags": []
   },
   "outputs": [
    {
     "data": {
      "text/plain": [
       "(200000, 25)"
      ]
     },
     "execution_count": 20,
     "metadata": {},
     "output_type": "execute_result"
    }
   ],
   "source": [
    "#Transform the test set\n",
    "test_import.shape\n"
   ]
  },
  {
   "cell_type": "code",
   "execution_count": 21,
   "id": "9f947266",
   "metadata": {
    "execution": {
     "iopub.execute_input": "2022-11-28T08:26:44.888734Z",
     "iopub.status.busy": "2022-11-28T08:26:44.887871Z",
     "iopub.status.idle": "2022-11-28T08:26:48.617118Z",
     "shell.execute_reply": "2022-11-28T08:26:48.616100Z"
    },
    "papermill": {
     "duration": 3.738768,
     "end_time": "2022-11-28T08:26:48.619760",
     "exception": false,
     "start_time": "2022-11-28T08:26:44.880992",
     "status": "completed"
    },
    "tags": []
   },
   "outputs": [],
   "source": [
    "preproc_df = preproc.fit_transform(train_X)"
   ]
  },
  {
   "cell_type": "code",
   "execution_count": null,
   "id": "80072b94",
   "metadata": {
    "papermill": {
     "duration": 0.006478,
     "end_time": "2022-11-28T08:26:48.633079",
     "exception": false,
     "start_time": "2022-11-28T08:26:48.626601",
     "status": "completed"
    },
    "tags": []
   },
   "outputs": [],
   "source": []
  },
  {
   "cell_type": "code",
   "execution_count": 22,
   "id": "c9bdcf39",
   "metadata": {
    "execution": {
     "iopub.execute_input": "2022-11-28T08:26:48.646399Z",
     "iopub.status.busy": "2022-11-28T08:26:48.646084Z",
     "iopub.status.idle": "2022-11-28T08:26:48.650413Z",
     "shell.execute_reply": "2022-11-28T08:26:48.649331Z"
    },
    "papermill": {
     "duration": 0.0136,
     "end_time": "2022-11-28T08:26:48.652852",
     "exception": false,
     "start_time": "2022-11-28T08:26:48.639252",
     "status": "completed"
    },
    "tags": []
   },
   "outputs": [],
   "source": [
    "#Think about validation strategy\n",
    "#Perform train -test split\n",
    "#Look at adversial validation and understanding if he train and test dataset have different\n",
    "# distributions\n",
    "#Look at featuretools"
   ]
  },
  {
   "cell_type": "code",
   "execution_count": null,
   "id": "1471f076",
   "metadata": {
    "papermill": {
     "duration": 0.006085,
     "end_time": "2022-11-28T08:26:48.664869",
     "exception": false,
     "start_time": "2022-11-28T08:26:48.658784",
     "status": "completed"
    },
    "tags": []
   },
   "outputs": [],
   "source": []
  }
 ],
 "metadata": {
  "kernelspec": {
   "display_name": "Python 3",
   "language": "python",
   "name": "python3"
  },
  "language_info": {
   "codemirror_mode": {
    "name": "ipython",
    "version": 3
   },
   "file_extension": ".py",
   "mimetype": "text/x-python",
   "name": "python",
   "nbconvert_exporter": "python",
   "pygments_lexer": "ipython3",
   "version": "3.7.12"
  },
  "papermill": {
   "default_parameters": {},
   "duration": 41.061123,
   "end_time": "2022-11-28T08:26:49.992824",
   "environment_variables": {},
   "exception": null,
   "input_path": "__notebook__.ipynb",
   "output_path": "__notebook__.ipynb",
   "parameters": {},
   "start_time": "2022-11-28T08:26:08.931701",
   "version": "2.3.4"
  }
 },
 "nbformat": 4,
 "nbformat_minor": 5
}
